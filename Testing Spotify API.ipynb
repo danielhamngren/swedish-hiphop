{
 "cells": [
  {
   "cell_type": "code",
   "execution_count": null,
   "metadata": {
    "collapsed": true
   },
   "outputs": [],
   "source": [
    "import requests\n",
    "\n",
    "# In order to show images in jupyter\n",
    "from IPython.display import Image, display\n",
    "from IPython.core.display import HTML"
   ]
  },
  {
   "cell_type": "code",
   "execution_count": null,
   "metadata": {
    "collapsed": false
   },
   "outputs": [],
   "source": [
    "token = ''\n",
    "with open('spotifyApiToken.key', 'r') as tokenfile:\n",
    "    token = tokenfile.readline().strip()"
   ]
  },
  {
   "cell_type": "code",
   "execution_count": null,
   "metadata": {
    "collapsed": false
   },
   "outputs": [],
   "source": [
    "def search_artist(artist, token):\n",
    "    headers = {\"Authorization\":\"Bearer {}\".format(token)}\n",
    "    r = requests.get('https://api.spotify.com/v1/search?q={}&type=artist&limit=1'.format(artist), headers=headers)\n",
    "    artist_data = r.json()['artists']['items'][0]\n",
    "    display(Image(url= artist_data['images'][1]['url']))#, width=160, height=160))\n",
    "    return artist_data\n",
    "\n",
    "def get_albums_from_artist(artist_id, token):\n",
    "    headers = {\"Authorization\":\"Bearer {}\".format(token)}\n",
    "\n",
    "    album_data = []\n",
    "    \n",
    "    fetchMore = True\n",
    "    url = 'https://api.spotify.com/v1/artists/{}/albums?album_type=single,album&market=SE'.format(artist_id)\n",
    "    while fetchMore:\n",
    "        r = requests.get(url, headers=headers)\n",
    "        album_data += r.json()['items']\n",
    "        url =r.json()['next']\n",
    "        if url is None:\n",
    "            fetchMore = False\n",
    "    return album_data\n",
    "\n",
    "def get_album(album_id, token):\n",
    "    headers = {\"Authorization\":\"Bearer {}\".format(token)}\n",
    "    url = 'https://api.spotify.com/v1/albums/{}'.format(album_id)\n",
    "    r = requests.get(url, headers=headers)\n",
    "    return r.json()\n",
    "\n",
    "def get_all_artists_from_tracks(tracks):\n",
    "    artist_dict = {}\n",
    "    for track in tracks:\n",
    "        for artist in track['artists']:\n",
    "            artist_dict[artist['id']] = artist\n",
    "    return artist_dict"
   ]
  },
  {
   "cell_type": "code",
   "execution_count": null,
   "metadata": {
    "collapsed": false,
    "scrolled": false
   },
   "outputs": [],
   "source": [
    "\n",
    "artist = search_artist('promoe', token)\n",
    "print(artist['name'])\n",
    "albums = get_albums_from_artist(artist['id'], token)\n",
    "\n",
    "for album in albums:\n",
    "    display(Image(url= album['images'][1]['url'], width=160, height=160))\n",
    "    album_details = get_album(album['id'], token)\n",
    "    tracks = album_details['tracks']['items']\n",
    "    artist_dict = get_all_artists_from_tracks(tracks)\n",
    "    \n",
    "    print(album_details['name'], album_details['release_date'])\n",
    "    print(album_details['external_urls']['spotify'])\n",
    "    \n",
    "    for key, value in artist_dict.items():\n",
    "        print(value['name'],':', value['id'])"
   ]
  },
  {
   "cell_type": "code",
   "execution_count": null,
   "metadata": {
    "collapsed": false,
    "scrolled": true
   },
   "outputs": [],
   "source": []
  },
  {
   "cell_type": "code",
   "execution_count": null,
   "metadata": {
    "collapsed": true
   },
   "outputs": [],
   "source": []
  }
 ],
 "metadata": {
  "kernelspec": {
   "display_name": "Python 3",
   "language": "python",
   "name": "python3"
  },
  "language_info": {
   "codemirror_mode": {
    "name": "ipython",
    "version": 3
   },
   "file_extension": ".py",
   "mimetype": "text/x-python",
   "name": "python",
   "nbconvert_exporter": "python",
   "pygments_lexer": "ipython3",
   "version": "3.5.1"
  }
 },
 "nbformat": 4,
 "nbformat_minor": 1
}
